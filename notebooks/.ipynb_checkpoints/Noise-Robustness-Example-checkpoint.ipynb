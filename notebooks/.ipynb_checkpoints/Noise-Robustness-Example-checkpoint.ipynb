{
 "cells": [
  {
   "cell_type": "markdown",
   "id": "2bd27975-911f-40d8-884d-a5dbd6491bac",
   "metadata": {},
   "source": [
    "# Robustness evaluation"
   ]
  },
  {
   "cell_type": "code",
   "execution_count": 19,
   "id": "e416bb26-9a78-428b-b73a-af8d72180ce0",
   "metadata": {
    "tags": []
   },
   "outputs": [],
   "source": [
    "from sklearn.datasets import load_iris\n",
    "from sklearn.ensemble import RandomForestClassifier\n",
    "from sklearn.svm import SVC\n",
    "from sklearn.model_selection import train_test_split\n",
    "from sklearn.metrics import confusion_matrix, classification_report, f1_score\n",
    "from badgers.tranformation.noise.tabular_data import GaussianNoiseTransformer"
   ]
  },
  {
   "cell_type": "markdown",
   "id": "162b8376-311b-48ef-8085-b267463c80fb",
   "metadata": {},
   "source": [
    "## Load and prepare data"
   ]
  },
  {
   "cell_type": "code",
   "execution_count": 5,
   "id": "51763e9e-a1dd-49ff-8d63-32e5adc60e16",
   "metadata": {},
   "outputs": [],
   "source": [
    "X, y = load_iris(return_X_y=True, as_frame=True)"
   ]
  },
  {
   "cell_type": "code",
   "execution_count": 10,
   "id": "8239e94d-58b2-4640-89c7-5246a883c105",
   "metadata": {
    "tags": []
   },
   "outputs": [],
   "source": [
    "X_train, X_test, y_train, y_test = train_test_split(X, y, test_size=0.25, random_state=0)"
   ]
  },
  {
   "cell_type": "code",
   "execution_count": 12,
   "id": "753cbaa7-84bf-4e3b-8123-eac67cb4f76e",
   "metadata": {
    "tags": []
   },
   "outputs": [
    {
     "data": {
      "text/plain": [
       "((112, 4), (38, 4))"
      ]
     },
     "execution_count": 12,
     "metadata": {},
     "output_type": "execute_result"
    }
   ],
   "source": [
    "X_train.shape, X_test.shape"
   ]
  },
  {
   "cell_type": "markdown",
   "id": "57e6fa0d-6691-495d-abd4-9a45db02f751",
   "metadata": {},
   "source": [
    "## Train model"
   ]
  },
  {
   "cell_type": "code",
   "execution_count": 30,
   "id": "17ff0fae-db01-4e85-8542-bfc9a9d8c875",
   "metadata": {
    "tags": []
   },
   "outputs": [],
   "source": [
    "clf = RandomForestClassifier().fit(X_train,y_train)"
   ]
  },
  {
   "cell_type": "code",
   "execution_count": 31,
   "id": "7745a5c3-78f3-4935-90b9-8bd2204bea51",
   "metadata": {
    "tags": []
   },
   "outputs": [],
   "source": [
    "y_pred_train = clf.predict(X_train)\n",
    "y_pred_test = clf.predict(X_test)"
   ]
  },
  {
   "cell_type": "code",
   "execution_count": 32,
   "id": "44a52a3e-2bc5-4fff-9f94-d12363bf90d8",
   "metadata": {
    "tags": []
   },
   "outputs": [
    {
     "name": "stdout",
     "output_type": "stream",
     "text": [
      "confusion matrix training data [[37  0  0]\n",
      " [ 0 34  0]\n",
      " [ 0  0 41]]\n",
      "confusion matrix testing data [[13  0  0]\n",
      " [ 0 15  1]\n",
      " [ 0  0  9]]\n"
     ]
    }
   ],
   "source": [
    "print(\n",
    "    'confusion matrix training data',\n",
    "    confusion_matrix(y_true=y_train, y_pred=y_pred_train)\n",
    ")\n",
    "\n",
    "print(\n",
    "    'confusion matrix testing data',\n",
    "    confusion_matrix(y_true=y_test, y_pred=y_pred_test)\n",
    ")"
   ]
  },
  {
   "cell_type": "code",
   "execution_count": 35,
   "id": "4e7bf3d5-cd9d-46f2-9445-fa5094f32531",
   "metadata": {
    "tags": []
   },
   "outputs": [
    {
     "name": "stdout",
     "output_type": "stream",
     "text": [
      "f1 score training data 1.0\n",
      "f1 score testing data 0.9717034521788342\n"
     ]
    }
   ],
   "source": [
    "print(\n",
    "    'f1 score training data',\n",
    "    f1_score(y_true=y_train, y_pred=y_pred_train, average='macro')\n",
    ")\n",
    "\n",
    "print(\n",
    "    'f1 score testing data',\n",
    "    f1_score(y_true=y_test, y_pred=y_pred_test, average='macro')\n",
    ")"
   ]
  },
  {
   "cell_type": "markdown",
   "id": "452e4434-2122-47a0-aa29-8fc812f1e8dc",
   "metadata": {},
   "source": [
    "## Generate noise"
   ]
  },
  {
   "cell_type": "code",
   "execution_count": 40,
   "id": "64fa6c24-290c-4d9b-bc52-7bc4f7f89214",
   "metadata": {
    "tags": []
   },
   "outputs": [
    {
     "name": "stderr",
     "output_type": "stream",
     "text": [
      "C:\\Users\\siebert\\PycharmProjects\\badgers\\venv\\Lib\\site-packages\\sklearn\\base.py:439: UserWarning: X does not have valid feature names, but RandomForestClassifier was fitted with feature names\n",
      "  warnings.warn(\n",
      "C:\\Users\\siebert\\PycharmProjects\\badgers\\venv\\Lib\\site-packages\\sklearn\\base.py:439: UserWarning: X does not have valid feature names, but RandomForestClassifier was fitted with feature names\n",
      "  warnings.warn(\n"
     ]
    }
   ],
   "source": [
    "\n",
    "trf = GaussianNoiseTransformer(signal_to_noise_ratio=0.25)\n",
    "X_train_noise = trf.transform(X_train)\n",
    "X_test_noise = trf.transform(X_test)\n",
    "y_pred_train_noise = clf.predict(X_train_noise)\n",
    "y_pred_test_noise = clf.predict(X_test_noise)"
   ]
  },
  {
   "cell_type": "code",
   "execution_count": 41,
   "id": "c6fe1b76-5ccd-4cd6-8add-e0e1c9cb9728",
   "metadata": {
    "tags": []
   },
   "outputs": [
    {
     "name": "stdout",
     "output_type": "stream",
     "text": [
      "confusion matrix training data [[37  0  0]\n",
      " [ 2 29  3]\n",
      " [ 0  1 40]]\n",
      "confusion matrix testing data [[13  0  0]\n",
      " [ 0 13  3]\n",
      " [ 0  1  8]]\n"
     ]
    }
   ],
   "source": [
    "print(\n",
    "    'confusion matrix training data',\n",
    "    confusion_matrix(y_true=y_train, y_pred=y_pred_train_noise)\n",
    ")\n",
    "\n",
    "print(\n",
    "    'confusion matrix testing data',\n",
    "    confusion_matrix(y_true=y_test, y_pred=y_pred_test_noise)\n",
    ")"
   ]
  },
  {
   "cell_type": "code",
   "execution_count": 42,
   "id": "726dc3df-6348-4004-a7c3-129d7ab7e915",
   "metadata": {
    "tags": []
   },
   "outputs": [
    {
     "name": "stdout",
     "output_type": "stream",
     "text": [
      "f1 score training data 0.9441050543024229\n",
      "f1 score testing data 0.8888888888888888\n"
     ]
    }
   ],
   "source": [
    "print(\n",
    "    'f1 score training data',\n",
    "    f1_score(y_true=y_train, y_pred=y_pred_train_noise, average='macro')\n",
    ")\n",
    "\n",
    "print(\n",
    "    'f1 score testing data',\n",
    "    f1_score(y_true=y_test, y_pred=y_pred_test_noise, average='macro')\n",
    ")"
   ]
  },
  {
   "cell_type": "code",
   "execution_count": null,
   "id": "3119e9c5-1baa-4f18-b491-d5143ce5b6bb",
   "metadata": {},
   "outputs": [],
   "source": []
  }
 ],
 "metadata": {
  "kernelspec": {
   "display_name": "Python 3 (ipykernel)",
   "language": "python",
   "name": "python3"
  },
  "language_info": {
   "codemirror_mode": {
    "name": "ipython",
    "version": 3
   },
   "file_extension": ".py",
   "mimetype": "text/x-python",
   "name": "python",
   "nbconvert_exporter": "python",
   "pygments_lexer": "ipython3",
   "version": "3.11.2"
  }
 },
 "nbformat": 4,
 "nbformat_minor": 5
}
