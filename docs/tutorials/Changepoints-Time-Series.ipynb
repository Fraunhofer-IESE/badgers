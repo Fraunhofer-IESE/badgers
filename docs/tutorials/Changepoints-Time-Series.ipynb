{
 "cells": [
  {
   "cell_type": "markdown",
   "id": "bb06961a-3e8c-44b8-9c82-290ef3466706",
   "metadata": {},
   "source": [
    "# Generate changepoints in time series"
   ]
  },
  {
   "cell_type": "code",
   "execution_count": null,
   "id": "84e1aec6-182c-4cb4-99ac-66cf59dea0c0",
   "metadata": {},
   "outputs": [],
   "source": [
    "import numpy as np\n",
    "import matplotlib.pyplot as plt\n",
    "from badgers.generators.time_series.changepoints import RandomChangeInMeanGenerator"
   ]
  },
  {
   "cell_type": "markdown",
   "id": "e3aefe5c-80c5-4e73-969a-13798a72c84a",
   "metadata": {},
   "source": [
    "## Setup random generator"
   ]
  },
  {
   "cell_type": "code",
   "execution_count": null,
   "id": "c4a12b1a-d40d-4478-8e43-5bdffacfc04b",
   "metadata": {},
   "outputs": [],
   "source": [
    "from numpy.random import default_rng\n",
    "seed = 0\n",
    "rng = default_rng(seed)"
   ]
  },
  {
   "cell_type": "markdown",
   "id": "f3202686-c579-47c6-889b-e740b27f9768",
   "metadata": {},
   "source": [
    "## Generate data (gaussian white noise)"
   ]
  },
  {
   "cell_type": "code",
   "execution_count": null,
   "id": "fc05e08d-941f-46b9-b9a6-d09526a36427",
   "metadata": {},
   "outputs": [],
   "source": [
    "X = rng.normal(size=100, scale=0.25)\n",
    "t = np.arange(100)"
   ]
  },
  {
   "cell_type": "code",
   "execution_count": null,
   "id": "799dff58-76e8-42c8-8d33-18514e4cbdcc",
   "metadata": {},
   "outputs": [],
   "source": [
    "plt.plot(t, X)"
   ]
  },
  {
   "cell_type": "markdown",
   "id": "ecaccafd-72eb-4d70-a496-dd915c6a1f14",
   "metadata": {},
   "source": [
    "## Randomly generate changepoints"
   ]
  },
  {
   "cell_type": "code",
   "execution_count": null,
   "id": "8184e534-c340-4dce-ab46-664876cdd447",
   "metadata": {},
   "outputs": [],
   "source": [
    "generator = RandomChangeInMeanGenerator(max_change=2, min_change=-2, n_changepoints=5, random_generator=rng)"
   ]
  },
  {
   "cell_type": "code",
   "execution_count": null,
   "id": "d66ed970-a48c-4410-8294-1136298b2fa9",
   "metadata": {},
   "outputs": [],
   "source": [
    "Xt, _ = generator.generate(X, None)"
   ]
  },
  {
   "cell_type": "code",
   "execution_count": null,
   "id": "f3f1a4ff-49b3-4a19-b247-3896d07005a6",
   "metadata": {},
   "outputs": [],
   "source": [
    "fig, axes = plt.subplots(2, sharex=True, sharey=True, figsize=(6,6))\n",
    "axes[0].plot(t, X)\n",
    "axes[0].set_title('Original data')\n",
    "axes[1].plot(t, Xt)\n",
    "axes[1].set_title('Transformed data')\n",
    "for cpt in generator.changepoints:\n",
    "    axes[1].vlines(cpt[0], ymin=Xt.min(), ymax=Xt.max(), ls='--', color='r')\n",
    "plt.tight_layout();"
   ]
  },
  {
   "cell_type": "code",
   "execution_count": null,
   "id": "86765db2-6cee-4cd7-aa61-173f98caa870",
   "metadata": {},
   "outputs": [],
   "source": []
  }
 ],
 "metadata": {
  "kernelspec": {
   "display_name": "Python 3 (ipykernel)",
   "language": "python",
   "name": "python3"
  },
  "language_info": {
   "codemirror_mode": {
    "name": "ipython",
    "version": 3
   },
   "file_extension": ".py",
   "mimetype": "text/x-python",
   "name": "python",
   "nbconvert_exporter": "python",
   "pygments_lexer": "ipython3",
   "version": "3.11.2"
  }
 },
 "nbformat": 4,
 "nbformat_minor": 5
}
