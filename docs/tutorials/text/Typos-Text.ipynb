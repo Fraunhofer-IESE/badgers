{
 "cells": [
  {
   "cell_type": "markdown",
   "id": "c695b94a-1032-46a3-9a97-421f1a4a43bd",
   "metadata": {},
   "source": [
    "# Adding typos to text"
   ]
  },
  {
   "cell_type": "code",
   "execution_count": 1,
   "id": "d940b272-c15a-4b3b-b068-bc7308599534",
   "metadata": {},
   "outputs": [],
   "source": [
    "from badgers.generators.text.typos import SwapLettersGenerator, LeetSpeakGenerator"
   ]
  },
  {
   "cell_type": "markdown",
   "id": "e01f27e1-5c10-4c1e-94bb-48343182ca55",
   "metadata": {},
   "source": [
    "## Setup random generator"
   ]
  },
  {
   "cell_type": "code",
   "execution_count": 2,
   "id": "a6cc6cb0-b850-4b87-8cc7-5b61a0394d62",
   "metadata": {},
   "outputs": [],
   "source": [
    "from numpy.random import default_rng\n",
    "seed = 0\n",
    "rng = default_rng(seed)"
   ]
  },
  {
   "cell_type": "markdown",
   "id": "76cd5970-af62-4904-aff5-f53ca442a3fe",
   "metadata": {},
   "source": [
    "## Data"
   ]
  },
  {
   "cell_type": "code",
   "execution_count": 3,
   "id": "8d8acaee-95ca-4ac1-910d-6b79256564a7",
   "metadata": {},
   "outputs": [],
   "source": [
    "X = \"the quick brown fox jumps over the lazy dog\".split(' ')"
   ]
  },
  {
   "cell_type": "markdown",
   "id": "4da6eb3c-cd91-41ad-9db8-6a891bad6072",
   "metadata": {},
   "source": [
    "## Swapping letter randomly"
   ]
  },
  {
   "cell_type": "code",
   "execution_count": 4,
   "id": "196be517-21ee-4f50-8a3c-57b454fcc470",
   "metadata": {},
   "outputs": [],
   "source": [
    "swap_letters = SwapLettersGenerator(random_generator=rng)"
   ]
  },
  {
   "cell_type": "code",
   "execution_count": 5,
   "id": "bdbb18f3-29fd-48e0-8450-8de9266dd75a",
   "metadata": {},
   "outputs": [],
   "source": [
    "Xt, _ = swap_letters.generate(X.copy(), y=None, swap_proba=1)"
   ]
  },
  {
   "cell_type": "code",
   "execution_count": 6,
   "id": "4a2c09cb-9a50-474e-be2f-a9a8a9362748",
   "metadata": {},
   "outputs": [
    {
     "name": "stdout",
     "output_type": "stream",
     "text": [
      "Original:\tthe quick brown fox jumps over the lazy dog\n",
      "Transformed:\tthe qucik borwn fox jmups oevr the lzay dog\n"
     ]
    }
   ],
   "source": [
    "print('Original:\\t'+' '.join(X))\n",
    "print('Transformed:\\t'+' '.join(Xt))"
   ]
  },
  {
   "cell_type": "markdown",
   "id": "d1c389f2-5ce5-4fe6-89d0-f8002949113e",
   "metadata": {},
   "source": [
    "## Leet Speak"
   ]
  },
  {
   "cell_type": "code",
   "execution_count": 7,
   "id": "43e634b8-2657-4e28-ac59-fa190298937d",
   "metadata": {},
   "outputs": [],
   "source": [
    "leet_speak = LeetSpeakGenerator()"
   ]
  },
  {
   "cell_type": "code",
   "execution_count": 8,
   "id": "0b6f7e67-e68a-446c-a8e7-25823895ea0f",
   "metadata": {},
   "outputs": [],
   "source": [
    "Xt, _ = leet_speak.generate(X.copy(), y=None, replacement_proba=0.25)"
   ]
  },
  {
   "cell_type": "code",
   "execution_count": 9,
   "id": "04d104f6-da91-4e50-981a-72b703903a6a",
   "metadata": {},
   "outputs": [
    {
     "name": "stdout",
     "output_type": "stream",
     "text": [
      "Original:\tthe quick brown fox jumps over the lazy dog\n",
      "Transformed:\tth3 quick br0w^ /=ox ju/\\/\\ps over the l4zy dog\n"
     ]
    }
   ],
   "source": [
    "print('Original:\\t'+' '.join(X))\n",
    "print('Transformed:\\t'+' '.join(Xt))"
   ]
  },
  {
   "cell_type": "code",
   "execution_count": null,
   "id": "04439b35-c84f-4dcf-ad73-0e6ba11518a7",
   "metadata": {},
   "outputs": [],
   "source": []
  }
 ],
 "metadata": {
  "kernelspec": {
   "display_name": "Python 3 (ipykernel)",
   "language": "python",
   "name": "python3"
  },
  "language_info": {
   "codemirror_mode": {
    "name": "ipython",
    "version": 3
   },
   "file_extension": ".py",
   "mimetype": "text/x-python",
   "name": "python",
   "nbconvert_exporter": "python",
   "pygments_lexer": "ipython3",
   "version": "3.11.2"
  }
 },
 "nbformat": 4,
 "nbformat_minor": 5
}
