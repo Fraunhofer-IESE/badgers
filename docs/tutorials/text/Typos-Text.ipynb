{
 "cells": [
  {
   "cell_type": "markdown",
   "id": "c695b94a-1032-46a3-9a97-421f1a4a43bd",
   "metadata": {},
   "source": [
    "# Adding typos to text"
   ]
  },
  {
   "cell_type": "code",
   "execution_count": 1,
   "id": "d940b272-c15a-4b3b-b068-bc7308599534",
   "metadata": {},
   "outputs": [],
   "source": [
    "from badgers.generators.text.typos import SwapLettersGenerator, LeetSpeakGenerator, SwapCaseGenerator"
   ]
  },
  {
   "cell_type": "markdown",
   "id": "e01f27e1-5c10-4c1e-94bb-48343182ca55",
   "metadata": {},
   "source": [
    "## Setup random generator"
   ]
  },
  {
   "cell_type": "code",
   "execution_count": 2,
   "id": "a6cc6cb0-b850-4b87-8cc7-5b61a0394d62",
   "metadata": {},
   "outputs": [],
   "source": [
    "from numpy.random import default_rng\n",
    "seed = 0\n",
    "rng = default_rng(seed)"
   ]
  },
  {
   "cell_type": "markdown",
   "id": "76cd5970-af62-4904-aff5-f53ca442a3fe",
   "metadata": {},
   "source": [
    "## Data"
   ]
  },
  {
   "cell_type": "code",
   "execution_count": 3,
   "id": "8d8acaee-95ca-4ac1-910d-6b79256564a7",
   "metadata": {},
   "outputs": [],
   "source": [
    "X = \"the quick brown fox jumps over the lazy dog\".split(' ')"
   ]
  },
  {
   "cell_type": "markdown",
   "id": "4da6eb3c-cd91-41ad-9db8-6a891bad6072",
   "metadata": {},
   "source": [
    "## Swapping letter randomly"
   ]
  },
  {
   "cell_type": "code",
   "execution_count": 4,
   "id": "196be517-21ee-4f50-8a3c-57b454fcc470",
   "metadata": {},
   "outputs": [],
   "source": [
    "swap_letters = SwapLettersGenerator(random_generator=rng)"
   ]
  },
  {
   "cell_type": "code",
   "execution_count": 5,
   "id": "bdbb18f3-29fd-48e0-8450-8de9266dd75a",
   "metadata": {},
   "outputs": [],
   "source": [
    "Xt, _ = swap_letters.generate(X.copy(), y=None, swap_proba=1)"
   ]
  },
  {
   "cell_type": "code",
   "execution_count": 6,
   "id": "4a2c09cb-9a50-474e-be2f-a9a8a9362748",
   "metadata": {},
   "outputs": [
    {
     "name": "stdout",
     "output_type": "stream",
     "text": [
      "Original:\tthe quick brown fox jumps over the lazy dog\n",
      "Transformed:\tthe qucik borwn fox jmups oevr the lzay dog\n"
     ]
    }
   ],
   "source": [
    "print('Original:\\t'+' '.join(X))\n",
    "print('Transformed:\\t'+' '.join(Xt))"
   ]
  },
  {
   "cell_type": "markdown",
   "id": "d1c389f2-5ce5-4fe6-89d0-f8002949113e",
   "metadata": {},
   "source": [
    "## Leet Speak"
   ]
  },
  {
   "cell_type": "code",
   "execution_count": 7,
   "id": "43e634b8-2657-4e28-ac59-fa190298937d",
   "metadata": {},
   "outputs": [],
   "source": [
    "leet_speak = LeetSpeakGenerator()"
   ]
  },
  {
   "cell_type": "code",
   "execution_count": 8,
   "id": "0b6f7e67-e68a-446c-a8e7-25823895ea0f",
   "metadata": {},
   "outputs": [],
   "source": [
    "Xt, _ = leet_speak.generate(X.copy(), y=None, replacement_proba=0.25)"
   ]
  },
  {
   "cell_type": "code",
   "execution_count": 9,
   "id": "04d104f6-da91-4e50-981a-72b703903a6a",
   "metadata": {},
   "outputs": [
    {
     "name": "stdout",
     "output_type": "stream",
     "text": [
      "Original:\tthe quick brown fox jumps over the lazy dog\n",
      "Transformed:\tth3 quick br0w^ /=ox ju/\\/\\ps over the l4zy dog\n"
     ]
    }
   ],
   "source": [
    "print('Original:\\t'+' '.join(X))\n",
    "print('Transformed:\\t'+' '.join(Xt))"
   ]
  },
  {
   "cell_type": "markdown",
   "id": "180fe290-ed49-4027-9e59-c18cf89e5eb4",
   "metadata": {},
   "source": [
    "## Swap case"
   ]
  },
  {
   "cell_type": "code",
   "execution_count": 10,
   "id": "9bcc0865-d9dd-4b95-ab4a-57feaad7c330",
   "metadata": {},
   "outputs": [],
   "source": [
    "swap_case = SwapCaseGenerator()"
   ]
  },
  {
   "cell_type": "code",
   "execution_count": 11,
   "id": "d947f6af-71fe-4913-90fa-4b37d929ea21",
   "metadata": {},
   "outputs": [],
   "source": [
    "Xt, _ = swap_case.generate(X.copy(), y=None, swapcase_proba=0.25)"
   ]
  },
  {
   "cell_type": "code",
   "execution_count": 12,
   "id": "ded6a17c-4e2c-483a-8894-99857a2132f2",
   "metadata": {},
   "outputs": [
    {
     "name": "stdout",
     "output_type": "stream",
     "text": [
      "Original:\tthe quick brown fox jumps over the lazy dog\n",
      "Transformed:\tthE Quick broWn FoX jumpS Over the lazy Dog\n"
     ]
    }
   ],
   "source": [
    "print('Original:\\t'+' '.join(X))\n",
    "print('Transformed:\\t'+' '.join(Xt))"
   ]
  },
  {
   "cell_type": "markdown",
   "id": "d0fdd30b-a223-4a35-9dab-4696238915a5",
   "metadata": {},
   "source": [
    "## Using pipelines"
   ]
  },
  {
   "cell_type": "code",
   "execution_count": 13,
   "id": "90e5ca7b-c959-44de-aa8b-ebd4d09d24aa",
   "metadata": {},
   "outputs": [],
   "source": [
    "from badgers.core.pipeline import Pipeline"
   ]
  },
  {
   "cell_type": "code",
   "execution_count": 14,
   "id": "87f4d09e-8d89-4c3f-9640-6646f2082fa7",
   "metadata": {},
   "outputs": [],
   "source": [
    "generators = {'swap_letters': swap_letters, 'leet_speak': leet_speak, 'swap_case': swap_case}\n",
    "params = {'swap_letters': {'swap_proba':0.5}, 'leet_speak': {'replacement_proba':0.25}, 'swap_case': {'swapcase_proba':0.25}}\n",
    "pipeline = Pipeline(generators=generators)\n",
    "Xt, _ = pipeline.generate(X.copy(), y=None, params=params)"
   ]
  },
  {
   "cell_type": "code",
   "execution_count": 15,
   "id": "2b5fe819-9133-4038-bd25-189c3ef6a4a4",
   "metadata": {},
   "outputs": [
    {
     "name": "stdout",
     "output_type": "stream",
     "text": [
      "Original:\tthe quick brown fox jumps over the lazy dog\n",
      "Transformed:\tthe quick /3®Ow^ vo)( Jv(v)|^eHS ov€R t|~|e lzay dog\n"
     ]
    }
   ],
   "source": [
    "print('Original:\\t'+' '.join(X))\n",
    "print('Transformed:\\t'+' '.join(Xt))"
   ]
  }
 ],
 "metadata": {
  "kernelspec": {
   "display_name": "Python 3 (ipykernel)",
   "language": "python",
   "name": "python3"
  },
  "language_info": {
   "codemirror_mode": {
    "name": "ipython",
    "version": 3
   },
   "file_extension": ".py",
   "mimetype": "text/x-python",
   "name": "python",
   "nbconvert_exporter": "python",
   "pygments_lexer": "ipython3",
   "version": "3.12.2"
  }
 },
 "nbformat": 4,
 "nbformat_minor": 5
}
